{
 "cells": [
  {
   "cell_type": "code",
   "execution_count": 1,
   "metadata": {},
   "outputs": [],
   "source": [
    "%matplotlib inline\n",
    "%config InlineBackend.figure_formats = {'png', 'retina'}\n",
    "\n",
    "import datetime, time\n",
    "import xlsxwriter\n",
    "import openpyxl\n",
    "import pandas as pd\n",
    "from matplotlib import rc\n",
    "import matplotlib as mpl\n",
    "import matplotlib.pyplot as plt\n",
    "import pandas as pd\n",
    "rc('font', family='Malgun Gothic')\n",
    "\n",
    "import seaborn as sns\n",
    "\n",
    "from PIL import Image\n",
    "import PIL.Image as pilimg"
   ]
  },
  {
   "cell_type": "code",
   "execution_count": 2,
   "metadata": {},
   "outputs": [
    {
     "data": {
      "text/plain": [
       "['sum']"
      ]
     },
     "execution_count": 2,
     "metadata": {},
     "output_type": "execute_result"
    }
   ],
   "source": [
    "x = ['Net_Price','Audience','SPOT','Inbound_Calls','Reg_Donour', 'RD_Amount']\n",
    "y = ['sum']\n",
    "y"
   ]
  },
  {
   "cell_type": "code",
   "execution_count": 3,
   "metadata": {},
   "outputs": [],
   "source": [
    "def aggfunc(argN):\n",
    "    afstr= argN\n",
    "    bestr = afstr.split()\n",
    "    \n",
    "    global aggfunc\n",
    "    aggfunc = bestr\n",
    "    return aggfunc\n",
    "#aggfunc = aggfunc('sum')"
   ]
  },
  {
   "cell_type": "code",
   "execution_count": 4,
   "metadata": {},
   "outputs": [],
   "source": [
    "def maindata_call():\n",
    "    df_result = pd.read_excel(\"./Datas/df_result_merged.xlsx\")\n",
    "    df_result.dtypes\n",
    "    df_result = df_result.drop(['Unnamed: 0', 'Unnamed: 0.1'], axis=1)\n",
    "    df_result = df_result.rename({'Net Price':'Net_Price', 'Date_x':'Date', 'Daypart_x':'Daypart','Channel_x':'Channel', 'Creative_x':'Creative', 'I/B콜수':'Inbound_Calls', '정기후원':'Reg_Donour', '후원금액':'RD_Amount'}, axis='columns')\n",
    "    df_result['Audience'] = df_result.Audience.astype('int64')\n",
    "    df_result['Net_Price'] = df_result.Net_Price.astype('int64')\n",
    "    \n",
    "    df_result['Year'] = df_result['Date'].dt.year\n",
    "    df_result['Month'] = df_result['Date'].dt.month\n",
    "    df_result['Week'] = df_result['Date'].dt.weekofyear\n",
    "    df_result['Day'] = df_result['Date'].dt.day\n",
    "    df_result['Dayofweek'] = df_result['Date'].dt.weekday\n",
    "    global X\n",
    "    X = df_result\n",
    "    print(\"maindata call sucess\")\n",
    "    return X\n",
    "\n",
    "#maindata_call()\n",
    "\n",
    "def efby(val, aggfunc) :\n",
    "    efbyday_sum = pd.pivot_table(df_result, \n",
    "                     index = ['Year', 'Month', 'Day'],\n",
    "                     values = x,\n",
    "                     aggfunc = aggfunc\n",
    "                     )\n",
    "    efby_sum = efbyday_sum.reset_index()\n",
    "    cols = ['Year', 'Month','Day', 'Audience', 'Inbound_Calls', 'Net_Price', 'RD_Amount', 'Reg_Donour', 'SPOT']\n",
    "    efby_sum = pd.DataFrame(efby_sum.values, columns = cols)\n",
    "    efby_sum = efby_sum.astype({'Year' : str, 'Month': str, 'Day': str,'Audience' : int, 'Inbound_Calls' : int, 'Net_Price' : int, 'RD_Amount' : int, 'Reg_Donour' : int, 'SPOT' : int })\n",
    "\n",
    "    global efbysum, efbydaysum\n",
    "    efbysum = efby_sum\n",
    "    efbydaysum = efbyday_sum\n",
    "    return efbysum\n",
    "#efby_sum(x,y)\n",
    "\n",
    "def efbymonth(val, aggfunc):\n",
    "    # 월별 일평균 실적\n",
    "    efbymonth_mean =  pd.pivot_table(efbysum, \n",
    "                         index = ['Year', 'Month'],\n",
    "                         values = x,\n",
    "                         aggfunc = aggfunc\n",
    "                         ).astype('int')\n",
    "\n",
    "    efby_mean = efbymonth_mean.reset_index()\n",
    "    cols = ['Year', 'Month', 'Audience', 'Inbound_Calls', 'Net_Price', 'RD_Amount', 'Reg_Donour', 'SPOT']\n",
    "    efby_mean = pd.DataFrame(efby_mean.values, columns = cols)\n",
    "    efby_mean = efby_mean.astype({'Year' : str, 'Month': int, 'Audience' : int,  'Inbound_Calls' : int,  'Net_Price' : int, 'RD_Amount' : int, 'Reg_Donour' : int, 'SPOT' : int})\n",
    "    \n",
    "    global efbymonth\n",
    "    efbymonth = efbymonth\n",
    "    return efbymonth\n",
    "#efbymonth_mean(x, y)\n"
   ]
  },
  {
   "cell_type": "code",
   "execution_count": 5,
   "metadata": {},
   "outputs": [
    {
     "data": {
      "text/plain": [
       "['sum']"
      ]
     },
     "execution_count": 5,
     "metadata": {},
     "output_type": "execute_result"
    }
   ],
   "source": [
    "aggfunc('sum')"
   ]
  },
  {
   "cell_type": "code",
   "execution_count": 6,
   "metadata": {},
   "outputs": [
    {
     "ename": "NameError",
     "evalue": "name 'df_result' is not defined",
     "output_type": "error",
     "traceback": [
      "\u001b[1;31m---------------------------------------------------------------------------\u001b[0m",
      "\u001b[1;31mNameError\u001b[0m                                 Traceback (most recent call last)",
      "\u001b[1;32m<ipython-input-6-cae29e0f1ac6>\u001b[0m in \u001b[0;36m<module>\u001b[1;34m\u001b[0m\n\u001b[1;32m----> 1\u001b[1;33m \u001b[0mefby\u001b[0m\u001b[1;33m(\u001b[0m\u001b[0mx\u001b[0m\u001b[1;33m,\u001b[0m\u001b[0maggfunc\u001b[0m\u001b[1;33m)\u001b[0m\u001b[1;33m,\u001b[0m\u001b[0mprint\u001b[0m\u001b[1;33m(\u001b[0m\u001b[0maggfunc\u001b[0m\u001b[1;33m)\u001b[0m\u001b[1;33m\u001b[0m\u001b[1;33m\u001b[0m\u001b[0m\n\u001b[0m",
      "\u001b[1;32m<ipython-input-4-a44c3ba2b348>\u001b[0m in \u001b[0;36mefby\u001b[1;34m(val, aggfunc)\u001b[0m\n\u001b[0;32m     20\u001b[0m \u001b[1;33m\u001b[0m\u001b[0m\n\u001b[0;32m     21\u001b[0m \u001b[1;32mdef\u001b[0m \u001b[0mefby\u001b[0m\u001b[1;33m(\u001b[0m\u001b[0mval\u001b[0m\u001b[1;33m,\u001b[0m \u001b[0maggfunc\u001b[0m\u001b[1;33m)\u001b[0m \u001b[1;33m:\u001b[0m\u001b[1;33m\u001b[0m\u001b[1;33m\u001b[0m\u001b[0m\n\u001b[1;32m---> 22\u001b[1;33m     efbyday_sum = pd.pivot_table(df_result, \n\u001b[0m\u001b[0;32m     23\u001b[0m                      \u001b[0mindex\u001b[0m \u001b[1;33m=\u001b[0m \u001b[1;33m[\u001b[0m\u001b[1;34m'Year'\u001b[0m\u001b[1;33m,\u001b[0m \u001b[1;34m'Month'\u001b[0m\u001b[1;33m,\u001b[0m \u001b[1;34m'Day'\u001b[0m\u001b[1;33m]\u001b[0m\u001b[1;33m,\u001b[0m\u001b[1;33m\u001b[0m\u001b[1;33m\u001b[0m\u001b[0m\n\u001b[0;32m     24\u001b[0m                      \u001b[0mvalues\u001b[0m \u001b[1;33m=\u001b[0m \u001b[0mx\u001b[0m\u001b[1;33m,\u001b[0m\u001b[1;33m\u001b[0m\u001b[1;33m\u001b[0m\u001b[0m\n",
      "\u001b[1;31mNameError\u001b[0m: name 'df_result' is not defined"
     ]
    }
   ],
   "source": [
    "efby(x,aggfunc),print(aggfunc)\n"
   ]
  },
  {
   "cell_type": "code",
   "execution_count": null,
   "metadata": {},
   "outputs": [],
   "source": []
  },
  {
   "cell_type": "code",
   "execution_count": null,
   "metadata": {},
   "outputs": [],
   "source": []
  },
  {
   "cell_type": "code",
   "execution_count": null,
   "metadata": {},
   "outputs": [],
   "source": []
  }
 ],
 "metadata": {
  "kernelspec": {
   "display_name": "Python 3",
   "language": "python",
   "name": "python3"
  },
  "language_info": {
   "codemirror_mode": {
    "name": "ipython",
    "version": 3
   },
   "file_extension": ".py",
   "mimetype": "text/x-python",
   "name": "python",
   "nbconvert_exporter": "python",
   "pygments_lexer": "ipython3",
   "version": "3.8.5"
  }
 },
 "nbformat": 4,
 "nbformat_minor": 4
}
